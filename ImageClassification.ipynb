{
 "cells": [
  {
   "cell_type": "markdown",
   "id": "be12b8ae",
   "metadata": {},
   "source": [
    "# IMAGE CLASSIFICATION USING CNN on CIFAR-10 DATASET"
   ]
  },
  {
   "cell_type": "markdown",
   "id": "9e8562f7",
   "metadata": {},
   "source": [
    "## Importing necessary libraries"
   ]
  },
  {
   "cell_type": "code",
   "execution_count": 1,
   "id": "da726457",
   "metadata": {},
   "outputs": [],
   "source": [
    "import tensorflow as tf"
   ]
  },
  {
   "cell_type": "code",
   "execution_count": 2,
   "id": "3deb341a",
   "metadata": {},
   "outputs": [],
   "source": [
    "from tensorflow.keras import datasets, layers, models\n",
    "import matplotlib.pyplot as plt\n",
    "import numpy as np"
   ]
  },
  {
   "cell_type": "markdown",
   "id": "5d71fac1",
   "metadata": {},
   "source": [
    "## Loading and Splitting CIFAR-10 dataset into training and testing "
   ]
  },
  {
   "cell_type": "code",
   "execution_count": 3,
   "id": "0694edbc",
   "metadata": {},
   "outputs": [
    {
     "data": {
      "text/plain": [
       "(50000, 32, 32, 3)"
      ]
     },
     "execution_count": 3,
     "metadata": {},
     "output_type": "execute_result"
    }
   ],
   "source": [
    "(X_train, y_train), (X_test,y_test) = datasets.cifar10.load_data()\n",
    "X_train.shape"
   ]
  },
  {
   "cell_type": "code",
   "execution_count": 4,
   "id": "99267a50",
   "metadata": {},
   "outputs": [
    {
     "data": {
      "text/plain": [
       "(10000, 32, 32, 3)"
      ]
     },
     "execution_count": 4,
     "metadata": {},
     "output_type": "execute_result"
    }
   ],
   "source": [
    "X_test.shape"
   ]
  },
  {
   "cell_type": "code",
   "execution_count": 5,
   "id": "232614b2",
   "metadata": {},
   "outputs": [
    {
     "data": {
      "text/plain": [
       "(50000, 1)"
      ]
     },
     "execution_count": 5,
     "metadata": {},
     "output_type": "execute_result"
    }
   ],
   "source": [
    "y_train.shape"
   ]
  },
  {
   "cell_type": "code",
   "execution_count": 6,
   "id": "df6f39ab",
   "metadata": {},
   "outputs": [
    {
     "data": {
      "text/plain": [
       "array([[6],\n",
       "       [9],\n",
       "       [9],\n",
       "       [4],\n",
       "       [1]], dtype=uint8)"
      ]
     },
     "execution_count": 6,
     "metadata": {},
     "output_type": "execute_result"
    }
   ],
   "source": [
    "y_train[:5]"
   ]
  },
  {
   "cell_type": "code",
   "execution_count": 7,
   "id": "10b49ae2",
   "metadata": {},
   "outputs": [
    {
     "data": {
      "text/plain": [
       "array([6, 9, 9, 4, 1], dtype=uint8)"
      ]
     },
     "execution_count": 7,
     "metadata": {},
     "output_type": "execute_result"
    }
   ],
   "source": [
    "y_train = y_train.reshape(-1,)\n",
    "y_train[:5]"
   ]
  },
  {
   "cell_type": "code",
   "execution_count": 8,
   "id": "bc83d43c",
   "metadata": {},
   "outputs": [],
   "source": [
    "y_test = y_test.reshape(-1,)"
   ]
  },
  {
   "cell_type": "markdown",
   "id": "9b317b9d",
   "metadata": {},
   "source": [
    "## Present classes in dataset"
   ]
  },
  {
   "cell_type": "code",
   "execution_count": 9,
   "id": "0c7651a5",
   "metadata": {},
   "outputs": [],
   "source": [
    "classes = [\"airplane\",\"automobile\",\"bird\",\"cat\",\"deer\",\"dog\",\"frog\",\"horse\",\"ship\",\"truck\"]"
   ]
  },
  {
   "cell_type": "markdown",
   "id": "939c2534",
   "metadata": {},
   "source": [
    "## Plotting images "
   ]
  },
  {
   "cell_type": "code",
   "execution_count": 10,
   "id": "09d1f41e",
   "metadata": {},
   "outputs": [],
   "source": [
    "def plot_sample(X, y, index):\n",
    "    plt.figure(figsize = (15,2))\n",
    "    plt.imshow(X[index])\n",
    "    plt.xlabel(classes[y[index]])"
   ]
  },
  {
   "cell_type": "code",
   "execution_count": 11,
   "id": "4951c5dd",
   "metadata": {},
   "outputs": [
    {
     "data": {
      "image/png": "[encoded data removed]",
      "text/plain": [
       "<Figure size 1080x144 with 1 Axes>"
      ]
     },
     "metadata": {
      "needs_background": "light"
     },
     "output_type": "display_data"
    }
   ],
   "source": [
    "plot_sample(X_train,y_train,0)"
   ]
  },
  {
   "cell_type": "code",
   "execution_count": 31,
   "id": "d92bd00e",
   "metadata": {},
   "outputs": [
    {
     "data": {
      "image/png": "[encoded data removed]",
      "text/plain": [
       "<Figure size 1080x144 with 1 Axes>"
      ]
     },
     "metadata": {
      "needs_background": "light"
     },
     "output_type": "display_data"
    }
   ],
   "source": [
    "plot_sample(X_train,y_train,3)"
   ]
  },
  {
   "cell_type": "markdown",
   "id": "e98d6a51",
   "metadata": {},
   "source": [
    "## Normalizing the training data"
   ]
  },
  {
   "cell_type": "code",
   "execution_count": 13,
   "id": "5e6d0390",
   "metadata": {},
   "outputs": [],
   "source": [
    "X_train = X_train/255.0\n",
    "X_test = X_test/255.0"
   ]
  },
  {
   "cell_type": "markdown",
   "id": "8b6dce09",
   "metadata": {},
   "source": [
    "## Building simple artificial neural network for image classification"
   ]
  },
  {
   "cell_type": "code",
   "execution_count": 14,
   "id": "b1006910",
   "metadata": {},
   "outputs": [],
   "source": [
    "ann = models.Sequential([\n",
    "    layers.Flatten(input_shape=(32,32,3)),\n",
    "    layers.Dense(3000,activation='relu'),\n",
    "    layers.Dense(1000,activation='relu'),\n",
    "    layers.Dense(10,activation='softmax')\n",
    "])"
   ]
  },
  {
   "cell_type": "code",
   "execution_count": 15,
   "id": "d4159fee",
   "metadata": {},
   "outputs": [],
   "source": [
    "ann.compile(optimizer = 'SGD',loss = 'sparse_categorical_crossentropy',metrics = ['accuracy'])"
   ]
  },
  {
   "cell_type": "code",
   "execution_count": 16,
   "id": "bda2fc48",
   "metadata": {},
   "outputs": [
    {
     "name": "stdout",
     "output_type": "stream",
     "text": [
      "Epoch 1/5\n",
      "1563/1563 [==============================] - 116s 74ms/step - loss: 1.8103 - accuracy: 0.3554\n",
      "Epoch 2/5\n",
      "1563/1563 [==============================] - 115s 74ms/step - loss: 1.6212 - accuracy: 0.4283\n",
      "Epoch 3/5\n",
      "1563/1563 [==============================] - 115s 73ms/step - loss: 1.5406 - accuracy: 0.4553\n",
      "Epoch 4/5\n",
      "1563/1563 [==============================] - 115s 73ms/step - loss: 1.4826 - accuracy: 0.4799\n",
      "Epoch 5/5\n",
      "1563/1563 [==============================] - 115s 73ms/step - loss: 1.4306 - accuracy: 0.4963\n"
     ]
    },
    {
     "data": {
      "text/plain": [
       "<keras.callbacks.History at 0x29500051e80>"
      ]
     },
     "execution_count": 16,
     "metadata": {},
     "output_type": "execute_result"
    }
   ],
   "source": [
    "ann.fit(X_train,y_train,epochs=5)"
   ]
  },
  {
   "cell_type": "markdown",
   "id": "4fe59b36",
   "metadata": {},
   "source": [
    "### As we can see above that at the end of 5 epochs, accuracy is approx 50%"
   ]
  },
  {
   "cell_type": "code",
   "execution_count": 17,
   "id": "3fc963eb",
   "metadata": {},
   "outputs": [
    {
     "name": "stdout",
     "output_type": "stream",
     "text": [
      "Classification Report: \n",
      "               precision    recall  f1-score   support\n",
      "\n",
      "           0       0.34      0.80      0.48      1000\n",
      "           1       0.74      0.35      0.47      1000\n",
      "           2       0.42      0.32      0.36      1000\n",
      "           3       0.39      0.27      0.32      1000\n",
      "           4       0.48      0.35      0.40      1000\n",
      "           5       0.44      0.29      0.35      1000\n",
      "           6       0.62      0.39      0.48      1000\n",
      "           7       0.43      0.63      0.51      1000\n",
      "           8       0.68      0.48      0.56      1000\n",
      "           9       0.45      0.69      0.54      1000\n",
      "\n",
      "    accuracy                           0.46     10000\n",
      "   macro avg       0.50      0.46      0.45     10000\n",
      "weighted avg       0.50      0.46      0.45     10000\n",
      "\n"
     ]
    }
   ],
   "source": [
    "import sklearn as sk\n",
    "from sklearn.metrics import confusion_matrix, classification_report\n",
    "import numpy as np\n",
    "y_pred = ann.predict(X_test)\n",
    "y_pred_classes= [np.argmax(element) for element in y_pred]\n",
    "print(\"Classification Report: \\n\",classification_report(y_test,y_pred_classes))"
   ]
  },
  {
   "cell_type": "markdown",
   "id": "c432fa43",
   "metadata": {},
   "source": [
    "## Building a CNN to train our images"
   ]
  },
  {
   "cell_type": "code",
   "execution_count": 18,
   "id": "6bf30187",
   "metadata": {},
   "outputs": [],
   "source": [
    "cnn = models.Sequential([\n",
    "    layers.Conv2D(filters=32, kernel_size=(3, 3), activation='relu', input_shape=(32, 32, 3)),\n",
    "    layers.MaxPooling2D((2, 2)),\n",
    "    \n",
    "    layers.Conv2D(filters=64, kernel_size=(3, 3), activation='relu'),\n",
    "    layers.MaxPooling2D((2, 2)),\n",
    "    \n",
    "    layers.Flatten(),\n",
    "    layers.Dense(64, activation='relu'),\n",
    "    layers.Dense(10, activation='softmax')\n",
    "])"
   ]
  },
  {
   "cell_type": "code",
   "execution_count": 19,
   "id": "6bcc7a98",
   "metadata": {},
   "outputs": [],
   "source": [
    "cnn.compile(optimizer='adam',\n",
    "              loss='sparse_categorical_crossentropy',\n",
    "              metrics=['accuracy'])"
   ]
  },
  {
   "cell_type": "code",
   "execution_count": 20,
   "id": "3c83d447",
   "metadata": {},
   "outputs": [
    {
     "name": "stdout",
     "output_type": "stream",
     "text": [
      "Epoch 1/10\n",
      "1563/1563 [==============================] - 62s 39ms/step - loss: 1.4898 - accuracy: 0.4635\n",
      "Epoch 2/10\n",
      "1563/1563 [==============================] - 62s 39ms/step - loss: 1.1393 - accuracy: 0.5986\n",
      "Epoch 3/10\n",
      "1563/1563 [==============================] - 62s 39ms/step - loss: 1.0143 - accuracy: 0.6452\n",
      "Epoch 4/10\n",
      "1563/1563 [==============================] - 63s 40ms/step - loss: 0.9315 - accuracy: 0.6752\n",
      "Epoch 5/10\n",
      "1563/1563 [==============================] - 61s 39ms/step - loss: 0.8765 - accuracy: 0.6969\n",
      "Epoch 6/10\n",
      "1563/1563 [==============================] - 61s 39ms/step - loss: 0.8198 - accuracy: 0.7140\n",
      "Epoch 7/10\n",
      "1563/1563 [==============================] - 62s 39ms/step - loss: 0.7847 - accuracy: 0.7285\n",
      "Epoch 8/10\n",
      "1563/1563 [==============================] - 63s 40ms/step - loss: 0.7432 - accuracy: 0.7394\n",
      "Epoch 9/10\n",
      "1563/1563 [==============================] - 60s 39ms/step - loss: 0.7092 - accuracy: 0.7504\n",
      "Epoch 10/10\n",
      "1563/1563 [==============================] - 61s 39ms/step - loss: 0.6790 - accuracy: 0.7627\n"
     ]
    },
    {
     "data": {
      "text/plain": [
       "<keras.callbacks.History at 0x295083e4100>"
      ]
     },
     "execution_count": 20,
     "metadata": {},
     "output_type": "execute_result"
    }
   ],
   "source": [
    "cnn.fit(X_train, y_train, epochs=10)"
   ]
  },
  {
   "cell_type": "markdown",
   "id": "3052a451",
   "metadata": {},
   "source": [
    "### And now we can see that With CNN, at the end 5 epochs, accuracy was at around 70% which is a significant improvement over ANN.\n",
    "### CNN's are best for image classification and gives superb accuracy.\n",
    "### Also computation is much less compared to simple ANN as maxpooling reduces the image dimensions while still preserving the features"
   ]
  },
  {
   "cell_type": "code",
   "execution_count": 21,
   "id": "6af60bf6",
   "metadata": {},
   "outputs": [
    {
     "name": "stdout",
     "output_type": "stream",
     "text": [
      "313/313 [==============================] - 5s 14ms/step - loss: 0.9663 - accuracy: 0.6819\n"
     ]
    },
    {
     "data": {
      "text/plain": [
       "[0.9662547707557678, 0.6819000244140625]"
      ]
     },
     "execution_count": 21,
     "metadata": {},
     "output_type": "execute_result"
    }
   ],
   "source": [
    "cnn.evaluate(X_test,y_test)"
   ]
  },
  {
   "cell_type": "code",
   "execution_count": 22,
   "id": "dbb7a8de",
   "metadata": {},
   "outputs": [
    {
     "data": {
      "text/plain": [
       "array([[1.9666373e-03, 6.2483605e-03, 7.4468660e-03, 8.6076486e-01,\n",
       "        6.4561704e-05, 6.3236724e-03, 2.0454777e-03, 3.3655563e-06,\n",
       "        9.0380356e-02, 2.4755806e-02],\n",
       "       [1.5279992e-03, 6.7504339e-02, 2.6235061e-06, 1.0447659e-07,\n",
       "        3.2888192e-08, 2.6357716e-10, 7.6770201e-10, 1.8779336e-09,\n",
       "        9.3092978e-01, 3.5205416e-05],\n",
       "       [4.3004468e-02, 4.4518623e-01, 1.0699284e-03, 3.3022230e-04,\n",
       "        1.4492590e-04, 8.6749033e-06, 2.9089411e-05, 6.2020430e-05,\n",
       "        4.9377355e-01, 1.6390909e-02],\n",
       "       [4.9038178e-01, 1.1842277e-01, 6.2001768e-02, 2.5072526e-03,\n",
       "        5.6448732e-02, 1.1146453e-05, 1.4329831e-04, 8.4386345e-05,\n",
       "        2.6957458e-01, 4.2427733e-04],\n",
       "       [2.9461421e-07, 2.0429219e-05, 2.6042880e-03, 3.4695327e-02,\n",
       "        4.2296532e-01, 6.1393483e-04, 5.3909051e-01, 7.6474890e-08,\n",
       "        9.6202348e-06, 2.0546624e-07]], dtype=float32)"
      ]
     },
     "execution_count": 22,
     "metadata": {},
     "output_type": "execute_result"
    }
   ],
   "source": [
    "y_pred = cnn.predict(X_test)\n",
    "y_pred[:5]"
   ]
  },
  {
   "cell_type": "code",
   "execution_count": 23,
   "id": "95221d75",
   "metadata": {},
   "outputs": [
    {
     "data": {
      "text/plain": [
       "[3, 8, 8, 0, 6]"
      ]
     },
     "execution_count": 23,
     "metadata": {},
     "output_type": "execute_result"
    }
   ],
   "source": [
    "y_classes = [np.argmax(element) for element in y_pred]\n",
    "y_classes[:5]"
   ]
  },
  {
   "cell_type": "code",
   "execution_count": 24,
   "id": "43800789",
   "metadata": {},
   "outputs": [
    {
     "data": {
      "text/plain": [
       "array([3, 8, 8, 0, 6], dtype=uint8)"
      ]
     },
     "execution_count": 24,
     "metadata": {},
     "output_type": "execute_result"
    }
   ],
   "source": [
    "y_test[:5]"
   ]
  },
  {
   "cell_type": "code",
   "execution_count": 57,
   "id": "45fbac4e",
   "metadata": {},
   "outputs": [
    {
     "data": {
      "image/png": "[encoded data removed]",
      "text/plain": [
       "<Figure size 1080x144 with 1 Axes>"
      ]
     },
     "metadata": {
      "needs_background": "light"
     },
     "output_type": "display_data"
    }
   ],
   "source": [
    "plot_sample(X_test, y_test,0)"
   ]
  },
  {
   "cell_type": "markdown",
   "id": "003e1bda",
   "metadata": {},
   "source": [
    "#### As the above image is  of an Airplane, lets predict its class"
   ]
  },
  {
   "cell_type": "code",
   "execution_count": 58,
   "id": "1c8c6d9e",
   "metadata": {},
   "outputs": [
    {
     "data": {
      "text/plain": [
       "'cat'"
      ]
     },
     "execution_count": 58,
     "metadata": {},
     "output_type": "execute_result"
    }
   ],
   "source": [
    "classes[y_classes[0]]"
   ]
  },
  {
   "cell_type": "markdown",
   "id": "f3c3b678",
   "metadata": {},
   "source": [
    "#### And it is correct"
   ]
  },
  {
   "cell_type": "code",
   "execution_count": 59,
   "id": "0398f809",
   "metadata": {},
   "outputs": [
    {
     "data": {
      "image/png": "[encoded data removed]",
      "text/plain": [
       "<Figure size 1080x144 with 1 Axes>"
      ]
     },
     "metadata": {
      "needs_background": "light"
     },
     "output_type": "display_data"
    }
   ],
   "source": [
    "plot_sample(X_test,y_test,1)\n"
   ]
  },
  {
   "cell_type": "code",
   "execution_count": 60,
   "id": "73e084d8",
   "metadata": {},
   "outputs": [
    {
     "data": {
      "text/plain": [
       "'ship'"
      ]
     },
     "execution_count": 60,
     "metadata": {},
     "output_type": "execute_result"
    }
   ],
   "source": [
    "classes[y_classes[1]]"
   ]
  }
 ],
 "metadata": {
  "kernelspec": {
   "display_name": "Python 3 (ipykernel)",
   "language": "python",
   "name": "python3"
  },
  "language_info": {
   "codemirror_mode": {
    "name": "ipython",
    "version": 3
   },
   "file_extension": ".py",
   "mimetype": "text/x-python",
   "name": "python",
   "nbconvert_exporter": "python",
   "pygments_lexer": "ipython3",
   "version": "3.9.7"
  }
 },
 "nbformat": 4,
 "nbformat_minor": 5
}
